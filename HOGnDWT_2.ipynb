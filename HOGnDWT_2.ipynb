{
  "nbformat": 4,
  "nbformat_minor": 0,
  "metadata": {
    "colab": {
      "provenance": []
    },
    "kernelspec": {
      "name": "python3",
      "display_name": "Python 3"
    },
    "language_info": {
      "name": "python"
    }
  },
  "cells": [
    {
      "cell_type": "code",
      "execution_count": 1,
      "metadata": {
        "colab": {
          "base_uri": "https://localhost:8080/"
        },
        "id": "PZI0yc4n4wwd",
        "outputId": "89ef592a-6031-473a-e9e1-e7b1f9b2f174"
      },
      "outputs": [
        {
          "output_type": "stream",
          "name": "stdout",
          "text": [
            "Mounted at /content/drive\n"
          ]
        }
      ],
      "source": [
        "from google.colab import drive\n",
        "drive.mount('/content/drive')"
      ]
    },
    {
      "cell_type": "code",
      "source": [
        "import os\n",
        "import cv2\n",
        "import numpy as np\n",
        "from skimage.feature import hog\n",
        "from skimage import exposure\n",
        "import pywt\n",
        "from sklearn.model_selection import train_test_split\n",
        "from sklearn.svm import SVC\n",
        "\n",
        "# Function to load and preprocess images from multiple folders\n",
        "def load_and_preprocess_images(folder_paths, label):\n",
        "    images = []\n",
        "    labels = []\n",
        "    for folder_path in folder_paths:\n",
        "        for filename in os.listdir(folder_path):\n",
        "            if filename.endswith(\".jpg\"):\n",
        "                image_path = os.path.join(folder_path, filename)\n",
        "                img = cv2.imread(image_path, cv2.IMREAD_GRAYSCALE)\n",
        "                img = cv2.resize(img, (64, 64))  # Resize to a common size\n",
        "                images.append(img)\n",
        "                labels.append(label)\n",
        "    return images, labels\n",
        "\n",
        "# Define folder paths for pedestrian and non-pedestrian images\n",
        "pedestrian_folders = [\n",
        "    \"/content/drive/MyDrive/ML1/JPEGImagesTest\",\n",
        "    \"/content/drive/MyDrive/ML1/JPEGImagesTrain\",\n",
        "    # Add more pedestrian folders as needed\n",
        "]\n",
        "\n",
        "non_pedestrian_folders = [\n",
        "    \"/content/drive/MyDrive/ML1/JPEGImagesTest\",\n",
        "    # Add more non-pedestrian folders as needed\n",
        "]\n",
        "\n",
        "# Load and preprocess images from all pedestrian and non-pedestrian folders\n",
        "pedestrian_images, pedestrian_labels = load_and_preprocess_images(pedestrian_folders, label=1)\n",
        "non_pedestrian_images, non_pedestrian_labels = load_and_preprocess_images(non_pedestrian_folders, label=0)\n",
        "\n",
        "# Combine pedestrian and non-pedestrian images and labels\n",
        "X = np.concatenate([pedestrian_images, non_pedestrian_images], axis=0)\n",
        "y = np.concatenate([pedestrian_labels, non_pedestrian_labels], axis=0)\n",
        "\n",
        "# Extract HOG features from the combined images\n",
        "def extract_hog_features(images):\n",
        "    hog_features = []\n",
        "    for img in images:\n",
        "        # Calculate the number of cells and blocks based on the image size\n",
        "        image_height, image_width = img.shape\n",
        "        pixels_per_cell = (image_width // 8, image_height // 8)\n",
        "        cells_per_block = (2, 2)\n",
        "\n",
        "        # Extract HOG features\n",
        "        features = hog(\n",
        "            img,\n",
        "            pixels_per_cell=pixels_per_cell,\n",
        "            cells_per_block=cells_per_block,\n",
        "            block_norm='L2-Hys',  # Use L2-Hys block normalization\n",
        "            visualize=False,\n",
        "            multichannel=False,  # Set to False for grayscale images\n",
        "        )\n",
        "\n",
        "        hog_features.append(features)\n",
        "\n",
        "    return np.array(hog_features)\n",
        "\n",
        "# Extract HOG features from the combined images\n",
        "X_hog = extract_hog_features(X)\n",
        "\n",
        "# Extract DWT features from the combined images\n",
        "def extract_dwt_features(images):\n",
        "    dwt_features = []\n",
        "    for img in images:\n",
        "        # Perform DWT on the image\n",
        "        coeffs = pywt.dwt2(img, 'bior1.3')  # Use the Biorthogonal 1.3 wavelet\n",
        "        LL, (LH, HL, HH) = coeffs  # Approximation and detail coefficients\n",
        "\n",
        "        # Flatten and concatenate the coefficients\n",
        "        features = np.concatenate((LL.ravel(), LH.ravel(), HL.ravel(), HH.ravel()))\n",
        "\n",
        "        dwt_features.append(features)\n",
        "\n",
        "    return np.array(dwt_features)\n",
        "\n",
        "# Extract DWT features from the combined images\n",
        "X_dwt = extract_dwt_features(X)\n",
        "\n",
        "# Combine HOG and DWT features\n",
        "X_combined = np.concatenate((X_hog, X_dwt), axis=1)\n",
        "\n",
        "# Split the data into training and testing sets\n",
        "X_train, X_test, y_train, y_test = train_test_split(X_combined, y, test_size=0.2, random_state=42)\n",
        "\n",
        "# Create an SVM classifier and train it\n",
        "svm_model = SVC(kernel='linear')\n",
        "svm_model.fit(X_train, y_train)\n",
        "\n",
        "# Evaluate the model\n",
        "accuracy = svm_model.score(X_test, y_test)\n",
        "print(f\"Accuracy: {accuracy * 100:.2f}%\")\n"
      ],
      "metadata": {
        "colab": {
          "base_uri": "https://localhost:8080/"
        },
        "id": "L7zveJvP46Qk",
        "outputId": "68f6f525-8325-4712-f332-ceade3e3b870"
      },
      "execution_count": 2,
      "outputs": [
        {
          "output_type": "stream",
          "name": "stderr",
          "text": [
            "<ipython-input-2-a3326c5a0b83>:54: FutureWarning: `multichannel` is a deprecated argument name for `hog`. It will be removed in version 1.0. Please use `channel_axis` instead.\n",
            "  features = hog(\n"
          ]
        },
        {
          "output_type": "stream",
          "name": "stdout",
          "text": [
            "Accuracy: 71.38%\n"
          ]
        }
      ]
    }
  ]
}