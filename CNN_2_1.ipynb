{
  "nbformat": 4,
  "nbformat_minor": 0,
  "metadata": {
    "colab": {
      "provenance": []
    },
    "kernelspec": {
      "name": "python3",
      "display_name": "Python 3"
    },
    "language_info": {
      "name": "python"
    }
  },
  "cells": [
    {
      "cell_type": "code",
      "execution_count": 1,
      "metadata": {
        "colab": {
          "base_uri": "https://localhost:8080/"
        },
        "id": "PVVUZu1d60S1",
        "outputId": "1b05af86-4148-4c19-e285-62b075bd607f"
      },
      "outputs": [
        {
          "output_type": "stream",
          "name": "stdout",
          "text": [
            "Mounted at /content/drive\n"
          ]
        }
      ],
      "source": [
        "from google.colab import drive\n",
        "drive.mount('/content/drive')"
      ]
    },
    {
      "cell_type": "code",
      "source": [
        "import os\n",
        "import cv2\n",
        "import numpy as np\n",
        "import tensorflow as tf\n",
        "from tensorflow.keras import layers, models\n",
        "from sklearn.model_selection import train_test_split\n",
        "\n",
        "# Function to load and preprocess images from multiple folders\n",
        "def load_and_preprocess_images(folder_paths, label):\n",
        "    images = []\n",
        "    labels = []\n",
        "    for folder_path in folder_paths:\n",
        "        for filename in os.listdir(folder_path):\n",
        "            if filename.endswith(\".jpg\"):\n",
        "                image_path = os.path.join(folder_path, filename)\n",
        "                img = cv2.imread(image_path)\n",
        "                img = cv2.resize(img, (128, 128))  # Resize to a common size\n",
        "                img = img / 255.0  # Normalize pixel values to [0, 1]\n",
        "                images.append(img)\n",
        "                labels.append(label)\n",
        "    return np.array(images), np.array(labels)\n",
        "\n",
        "# Define folder paths for pedestrian and non-pedestrian images\n",
        "pedestrian_folders = [\n",
        "    \"/content/drive/MyDrive/ML1/JPEGImagesTest\",\n",
        "    \"/content/drive/MyDrive/ML1/JPEGImagesTrain\",\n",
        "    # Add more pedestrian folders as needed\n",
        "]\n",
        "\n",
        "non_pedestrian_folders = [\n",
        "    \"/content/drive/MyDrive/ML1/JPEGImagesTest\",\n",
        "    # Add more non-pedestrian folders as needed\n",
        "]\n",
        "\n",
        "\n",
        "# Load and preprocess images from all pedestrian and non-pedestrian folders\n",
        "pedestrian_images, pedestrian_labels = load_and_preprocess_images(pedestrian_folders, label=1)\n",
        "non_pedestrian_images, non_pedestrian_labels = load_and_preprocess_images(non_pedestrian_folders, label=0)\n",
        "\n",
        "# Combine pedestrian and non-pedestrian images and labels\n",
        "X = np.concatenate([pedestrian_images, non_pedestrian_images], axis=0)\n",
        "y = np.concatenate([pedestrian_labels, non_pedestrian_labels], axis=0)\n",
        "\n",
        "# Split the data into training and testing sets\n",
        "X_train, X_test, y_train, y_test = train_test_split(X, y, test_size=0.2, random_state=42)\n",
        "\n",
        "# Define the DCNN model (example using a simple CNN)\n",
        "model = models.Sequential([\n",
        "    layers.Conv2D(32, (3, 3), activation='relu', input_shape=(128, 128, 3)),\n",
        "    layers.MaxPooling2D((2, 2)),\n",
        "    layers.Conv2D(64, (3, 3), activation='relu'),\n",
        "    layers.MaxPooling2D((2, 2)),\n",
        "    layers.Conv2D(64, (3, 3), activation='relu'),\n",
        "    layers.Flatten(),\n",
        "    layers.Dense(64, activation='relu'),\n",
        "    layers.Dense(1, activation='sigmoid')  # Binary classification, use 'sigmoid' activation\n",
        "])\n",
        "\n",
        "# Compile the model\n",
        "model.compile(optimizer='adam',\n",
        "              loss='binary_crossentropy',\n",
        "              metrics=['accuracy'])\n",
        "\n",
        "# Train the model\n",
        "model.fit(X_train, y_train, epochs=10, batch_size=32, validation_split=0.2)\n",
        "\n",
        "# Evaluate the model\n",
        "test_loss, test_acc = model.evaluate(X_test, y_test)\n",
        "print(f\"Test accuracy: {test_acc * 100:.2f}%\")\n"
      ],
      "metadata": {
        "colab": {
          "base_uri": "https://localhost:8080/"
        },
        "id": "ovj10ZV97__m",
        "outputId": "b65c85e5-a98b-4769-939f-c96865f87c37"
      },
      "execution_count": 2,
      "outputs": [
        {
          "output_type": "stream",
          "name": "stdout",
          "text": [
            "Epoch 1/10\n",
            "29/29 [==============================] - 26s 821ms/step - loss: 0.5197 - accuracy: 0.8142 - val_loss: 0.4738 - val_accuracy: 0.8238\n",
            "Epoch 2/10\n",
            "29/29 [==============================] - 27s 923ms/step - loss: 0.4690 - accuracy: 0.8319 - val_loss: 0.4750 - val_accuracy: 0.8238\n",
            "Epoch 3/10\n",
            "29/29 [==============================] - 25s 874ms/step - loss: 0.4501 - accuracy: 0.8319 - val_loss: 0.5000 - val_accuracy: 0.8238\n",
            "Epoch 4/10\n",
            "29/29 [==============================] - 27s 951ms/step - loss: 0.4447 - accuracy: 0.8319 - val_loss: 0.5395 - val_accuracy: 0.8238\n",
            "Epoch 5/10\n",
            "29/29 [==============================] - 23s 813ms/step - loss: 0.4282 - accuracy: 0.8319 - val_loss: 0.5465 - val_accuracy: 0.8106\n",
            "Epoch 6/10\n",
            "29/29 [==============================] - 29s 974ms/step - loss: 0.4116 - accuracy: 0.8341 - val_loss: 0.6308 - val_accuracy: 0.8062\n",
            "Epoch 7/10\n",
            "29/29 [==============================] - 25s 881ms/step - loss: 0.3733 - accuracy: 0.8374 - val_loss: 0.6743 - val_accuracy: 0.7137\n",
            "Epoch 8/10\n",
            "29/29 [==============================] - 24s 844ms/step - loss: 0.3349 - accuracy: 0.8352 - val_loss: 0.7501 - val_accuracy: 0.7577\n",
            "Epoch 9/10\n",
            "29/29 [==============================] - 25s 857ms/step - loss: 0.3220 - accuracy: 0.8352 - val_loss: 0.7436 - val_accuracy: 0.7048\n",
            "Epoch 10/10\n",
            "29/29 [==============================] - 26s 901ms/step - loss: 0.2741 - accuracy: 0.8529 - val_loss: 1.0589 - val_accuracy: 0.6960\n",
            "9/9 [==============================] - 3s 327ms/step - loss: 0.8720 - accuracy: 0.7491\n",
            "Test accuracy: 74.91%\n"
          ]
        }
      ]
    }
  ]
}