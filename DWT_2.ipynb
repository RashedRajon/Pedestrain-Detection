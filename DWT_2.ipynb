{
  "nbformat": 4,
  "nbformat_minor": 0,
  "metadata": {
    "colab": {
      "provenance": []
    },
    "kernelspec": {
      "name": "python3",
      "display_name": "Python 3"
    },
    "language_info": {
      "name": "python"
    }
  },
  "cells": [
    {
      "cell_type": "code",
      "execution_count": 1,
      "metadata": {
        "colab": {
          "base_uri": "https://localhost:8080/"
        },
        "id": "WocNaPlA1Wsr",
        "outputId": "87009de1-5f5f-49cf-f048-2c6ba9aa3512"
      },
      "outputs": [
        {
          "output_type": "stream",
          "name": "stdout",
          "text": [
            "Mounted at /content/drive\n"
          ]
        }
      ],
      "source": [
        "from google.colab import drive\n",
        "drive.mount('/content/drive')"
      ]
    },
    {
      "cell_type": "code",
      "source": [
        "import os\n",
        "import cv2\n",
        "import numpy as np\n",
        "import pywt\n",
        "from sklearn.model_selection import train_test_split\n",
        "from sklearn.svm import SVC\n",
        "\n",
        "# Function to load and preprocess images from multiple folders\n",
        "def load_and_preprocess_images(folder_paths, label):\n",
        "    images = []\n",
        "    labels = []\n",
        "    for folder_path in folder_paths:\n",
        "        for filename in os.listdir(folder_path):\n",
        "            if filename.endswith(\".jpg\"):\n",
        "                image_path = os.path.join(folder_path, filename)\n",
        "                img = cv2.imread(image_path, cv2.IMREAD_GRAYSCALE)\n",
        "                img = cv2.resize(img, (64, 64))  # Resize to a common size\n",
        "                images.append(img)\n",
        "                labels.append(label)\n",
        "    return images, labels\n",
        "\n",
        "# Define folder paths for pedestrian and non-pedestrian images\n",
        "pedestrian_folders = [\n",
        "    \"/content/drive/MyDrive/ML1/JPEGImagesTest\",\n",
        "    \"/content/drive/MyDrive/ML1/JPEGImagesTrain\",\n",
        "    # Add more pedestrian folders as needed\n",
        "]\n",
        "\n",
        "non_pedestrian_folders = [\n",
        "    \"/content/drive/MyDrive/ML1/JPEGImagesTest\",\n",
        "    # Add more non-pedestrian folders as needed\n",
        "]\n",
        "\n",
        "# Load and preprocess images from all pedestrian and non-pedestrian folders\n",
        "pedestrian_images, pedestrian_labels = load_and_preprocess_images(pedestrian_folders, label=1)\n",
        "non_pedestrian_images, non_pedestrian_labels = load_and_preprocess_images(non_pedestrian_folders, label=0)\n",
        "\n",
        "# Combine pedestrian and non-pedestrian images and labels\n",
        "X = np.concatenate([pedestrian_images, non_pedestrian_images], axis=0)\n",
        "y = np.concatenate([pedestrian_labels, non_pedestrian_labels], axis=0)\n",
        "\n",
        "# Extract DWT features from the combined images\n",
        "def extract_dwt_features(images):\n",
        "    dwt_features = []\n",
        "    for img in images:\n",
        "        # Perform DWT on the image\n",
        "        coeffs = pywt.dwt2(img, 'bior1.3')  # Use the Biorthogonal 1.3 wavelet\n",
        "        LL, (LH, HL, HH) = coeffs  # Approximation and detail coefficients\n",
        "\n",
        "        # Flatten and concatenate the coefficients\n",
        "        features = np.concatenate((LL.ravel(), LH.ravel(), HL.ravel(), HH.ravel()))\n",
        "\n",
        "        dwt_features.append(features)\n",
        "\n",
        "    return np.array(dwt_features)\n",
        "\n",
        "# Extract DWT features from the combined images\n",
        "X_dwt = extract_dwt_features(X)\n",
        "\n",
        "# Split the data into training and testing sets\n",
        "X_train, X_test, y_train, y_test = train_test_split(X_dwt, y, test_size=0.2, random_state=42)\n",
        "\n",
        "# Create an SVM classifier and train it\n",
        "svm_model = SVC(kernel='linear')\n",
        "svm_model.fit(X_train, y_train)\n",
        "\n",
        "# Evaluate the model\n",
        "accuracy = svm_model.score(X_test, y_test)\n",
        "print(f\"Accuracy: {accuracy * 100:.2f}%\")\n"
      ],
      "metadata": {
        "colab": {
          "base_uri": "https://localhost:8080/"
        },
        "id": "jDv_-FDn1eMl",
        "outputId": "834c55ea-8cd3-4188-d2b0-76d63812601d"
      },
      "execution_count": 2,
      "outputs": [
        {
          "output_type": "stream",
          "name": "stdout",
          "text": [
            "Accuracy: 71.38%\n"
          ]
        }
      ]
    }
  ]
}